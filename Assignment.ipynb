{
 "cells": [
  {
   "cell_type": "markdown",
   "metadata": {},
   "source": [
    "<h1><center>CSEN1022:Assignment 1</center></h1>\n",
    "<h3><center>Winter 2021</center></h3>\n",
    "<hr style=\"border:2px solid black\"> </hr>"
   ]
  },
  {
   "cell_type": "markdown",
   "metadata": {},
   "source": [
    "## <u> Please don't forget to fill in this data </u>\n",
    "**Member 1**\n",
    "\n",
    "Name: Mohammad Marwan Sultan\n",
    "\n",
    "GUC-ID: 43-3275\n",
    "\n",
    "Elective Tutorial No.: T-06\n",
    "\n",
    "**Member 2**\n",
    "\n",
    "Name: Mariam Ashraf Hindawi\n",
    "\n",
    "GUC-ID: 43-3771\n",
    "\n",
    "Elective Tutorial No.: T-06\n",
    "\n",
    "<hr style=\"border:2px solid black\"> </hr>"
   ]
  },
  {
   "cell_type": "markdown",
   "metadata": {},
   "source": [
    "## Imports (Don't Edit)"
   ]
  },
  {
   "cell_type": "code",
   "execution_count": 1,
   "metadata": {},
   "outputs": [],
   "source": [
    "import numpy as np\n",
    "import matplotlib.pyplot as plt\n",
    "%matplotlib inline"
   ]
  },
  {
   "cell_type": "markdown",
   "metadata": {},
   "source": [
    "## Read Data (Edit)"
   ]
  },
  {
   "cell_type": "code",
   "execution_count": null,
   "metadata": {},
   "outputs": [],
   "source": [
    "train1 = np.array([plt.imread('Data/Train/airplane/'+str(i)+'.jpg').reshape(-1) for i in range (0,5000)])\n",
    "train2 = np.array([plt.imread('Data/Train/automobile/'+str(i)+'.jpg').reshape(-1) for i in range (0,5000)])\n",
    "train3 = np.array([plt.imread('Data/Train/frog/'+str(i)+'.jpg').reshape(-1) for i in range (0,5000)])\n",
    "\n",
    "test1 = np.array([plt.imread('Data/Test/airplane/'+str(i)+'.jpg').reshape(-1) for i in range (0,1000)])\n",
    "test2 = np.array([plt.imread('Data/Test/automobile/'+str(i)+'.jpg').reshape(-1) for i in range (0,1000)])\n",
    "test3 = np.array([plt.imread('Data/Test/frog/'+str(i)+'.jpg').reshape(-1) for i in range (0,1000)])\n",
    "\n",
    "print(train1.shape, test1.shape)\n",
    "print(train2.shape, test2.shape)\n",
    "print(train3.shape, test3.shape)"
   ]
  },
  {
   "cell_type": "code",
   "execution_count": null,
   "metadata": {},
   "outputs": [],
   "source": [
    "# Normalizing pixel values between 0 and 255\n",
    "\n",
    "normalize_train1 = train1/255.0\n",
    "normalize_train2 = train2/255.0\n",
    "normalize_train3 = train3/255.0\n",
    "normalize_test1 = test1/255.0\n",
    "normalize_test2 = test2/255.0\n",
    "normalize_test3 = test3/255.0"
   ]
  },
  {
   "cell_type": "markdown",
   "metadata": {},
   "source": [
    "<hr style=\"border:2px solid black\"> </hr>\n",
    "\n",
    "## Construct Fischer's Linear Discriminant classifier for each of the 3 classes.\n",
    "#### Test each classifier on all images in X_Test. \n",
    "#### Construct Confusion Matrix."
   ]
  },
  {
   "cell_type": "code",
   "execution_count": null,
   "metadata": {},
   "outputs": [],
   "source": [
    "# Write code here\n",
    "# Train\n",
    "\n",
    "# Test\n",
    "# confusion_matrix = "
   ]
  },
  {
   "cell_type": "code",
   "execution_count": null,
   "metadata": {},
   "outputs": [],
   "source": [
    "# Airplane mean\n",
    "m_air = np.mean(normalize_train1, axis = 0).reshape(-1,1)\n",
    "m_air.shape\n"
   ]
  },
  {
   "cell_type": "code",
   "execution_count": null,
   "metadata": {},
   "outputs": [],
   "source": [
    "# Airplane Sw_air\n",
    "\n",
    "Sw_air = normalize_train1[0].reshape(-1,1)-m_air @ (normalize_train1[0].reshape(-1,1)-m_air).reshape(1,3072)\n",
    "for i in range(1,5000):\n",
    "    Sw_air += (normalize_train1[i].reshape(-1,1)-m_air @ (normalize_train1[i].reshape(-1,1)-m_air).reshape(1,3072))\n",
    "    print (i)"
   ]
  },
  {
   "cell_type": "code",
   "execution_count": null,
   "metadata": {},
   "outputs": [],
   "source": [
    "Sw_air.shape"
   ]
  },
  {
   "cell_type": "code",
   "execution_count": null,
   "metadata": {},
   "outputs": [],
   "source": [
    "# Not airplane mean\n",
    "\n",
    "m_not_air = np.mean(np.concatenate((normalize_train2, normalize_train3)), axis = 0).reshape(-1,1)\n",
    "m_not_air.shape"
   ]
  },
  {
   "cell_type": "code",
   "execution_count": null,
   "metadata": {},
   "outputs": [],
   "source": [
    "# Not airplane Sw_not_air\n",
    "\n",
    "not_airplane = np.concatenate((normalize_train2, normalize_train3))\n",
    "\n",
    "Sw_not_air = not_airplane[0].reshape(-1,1)-m_not_air @ (not_airplane[0].reshape(-1,1)-m_not_air).T\n",
    "for i in range(1,10000):\n",
    "    Sw_not_air += (not_airplane[i].reshape(-1,1)-m_not_air @ (not_airplane[i].reshape(-1,1)-m_not_air).T)\n",
    "    print (i)"
   ]
  },
  {
   "cell_type": "code",
   "execution_count": null,
   "metadata": {},
   "outputs": [],
   "source": [
    "Sw_not_air.shape"
   ]
  },
  {
   "cell_type": "code",
   "execution_count": null,
   "metadata": {},
   "outputs": [],
   "source": [
    "# Getting Pseudo inverse Sw^-1 of airplane\n",
    "Sw_inv_air = np.linalg.pinv(Sw_air + Sw_not_air)\n",
    "Sw_inv_air.shape"
   ]
  },
  {
   "cell_type": "code",
   "execution_count": null,
   "metadata": {},
   "outputs": [],
   "source": [
    "# Getting classifier of airplane\n",
    "w_air = Sw_inv_air @ (m_air - m_not_air)"
   ]
  },
  {
   "cell_type": "code",
   "execution_count": null,
   "metadata": {},
   "outputs": [],
   "source": [
    "# Getting wnode of airplane\n",
    "wnode_air = (w_air.T * -1) @ (0.5 * (m_air + m_not_air))\n",
    "wnode_air"
   ]
  },
  {
   "cell_type": "code",
   "execution_count": null,
   "metadata": {},
   "outputs": [],
   "source": [
    "# Automobile mean\n",
    "m_auto = np.mean(normalize_train2, axis = 0).reshape(-1,1)\n",
    "m_auto.shape"
   ]
  },
  {
   "cell_type": "code",
   "execution_count": null,
   "metadata": {},
   "outputs": [],
   "source": [
    "# Automobile Sw_auto\n",
    "\n",
    "Sw_auto = normalize_train2[0].reshape(-1,1)-m_auto @ (normalize_train2[0].reshape(-1,1)-m_auto).T\n",
    "for i in range(1,5000):\n",
    "    Sw_auto += (normalize_train2[i].reshape(-1,1)-m_auto @ (normalize_train2[i].reshape(-1,1)-m_auto).T)\n",
    "    print (i)"
   ]
  },
  {
   "cell_type": "code",
   "execution_count": null,
   "metadata": {},
   "outputs": [],
   "source": [
    "Sw_auto.shape"
   ]
  },
  {
   "cell_type": "code",
   "execution_count": null,
   "metadata": {},
   "outputs": [],
   "source": [
    "# Not automobile mean\n",
    "\n",
    "m_not_auto = np.mean(np.concatenate((normalize_train1, normalize_train3)), axis = 0).reshape(-1,1)\n",
    "m_not_auto.shape"
   ]
  },
  {
   "cell_type": "code",
   "execution_count": null,
   "metadata": {},
   "outputs": [],
   "source": [
    "# Not automobile Sw_not_auto\n",
    "\n",
    "not_automobile = np.concatenate((normalize_train1, normalize_train3))\n",
    "\n",
    "Sw_not_auto = not_automobile[0].reshape(-1,1)-m_not_auto @ (not_automobile[0].reshape(-1,1)-m_not_auto).T\n",
    "for i in range(1,10000):\n",
    "    Sw_not_auto += (not_automobile[i].reshape(-1,1)-m_not_auto @ (not_automobile[i].reshape(-1,1)-m_not_auto).T)\n",
    "    print (i)"
   ]
  },
  {
   "cell_type": "code",
   "execution_count": null,
   "metadata": {},
   "outputs": [],
   "source": [
    "Sw_not_auto.shape"
   ]
  },
  {
   "cell_type": "code",
   "execution_count": null,
   "metadata": {},
   "outputs": [],
   "source": [
    "# Getting Pseudo inverse Sw^-1 of automobile\n",
    "Sw_inv_auto = np.linalg.pinv(Sw_auto + Sw_not_auto)\n",
    "Sw_inv_auto.shape"
   ]
  },
  {
   "cell_type": "code",
   "execution_count": null,
   "metadata": {},
   "outputs": [],
   "source": [
    "# Getting classifier of automobile\n",
    "w_auto = Sw_inv_auto @ (m_auto - m_not_auto)"
   ]
  },
  {
   "cell_type": "code",
   "execution_count": null,
   "metadata": {},
   "outputs": [],
   "source": [
    "# Getting wnode of automobile\n",
    "wnode_auto = w_auto.T @ (-0.5 * (m_auto + m_not_auto))\n",
    "wnode_auto.shape"
   ]
  },
  {
   "cell_type": "code",
   "execution_count": null,
   "metadata": {},
   "outputs": [],
   "source": [
    "# Frog mean\n",
    "m_frog = np.mean(normalize_train3, axis = 0).reshape(-1,1)\n",
    "m_frog.shape"
   ]
  },
  {
   "cell_type": "code",
   "execution_count": null,
   "metadata": {},
   "outputs": [],
   "source": [
    "# Frog Sw_frog\n",
    "\n",
    "Sw_frog = normalize_train3[0].reshape(-1,1)-m_frog @ (normalize_train3[0].reshape(-1,1)-m_frog).T\n",
    "for i in range(1,5000):\n",
    "    Sw_frog += (normalize_train3[i].reshape(-1,1)-m_frog @ (normalize_train3[i].reshape(-1,1)-m_frog).T)\n",
    "    print (i)"
   ]
  },
  {
   "cell_type": "code",
   "execution_count": null,
   "metadata": {},
   "outputs": [],
   "source": [
    "Sw_frog.shape"
   ]
  },
  {
   "cell_type": "code",
   "execution_count": null,
   "metadata": {},
   "outputs": [],
   "source": [
    "# Not frog mean\n",
    "\n",
    "m_not_frog = np.mean(np.concatenate((normalize_train1, normalize_train2)), axis = 0).reshape(-1,1)\n",
    "m_not_frog.shape"
   ]
  },
  {
   "cell_type": "code",
   "execution_count": null,
   "metadata": {},
   "outputs": [],
   "source": [
    "# Not frog Sw_not_frog\n",
    "\n",
    "not_frog = np.concatenate((normalize_train1, normalize_train2))\n",
    "\n",
    "Sw_not_frog = not_frog[0].reshape(-1,1)-m_not_frog @ (not_frog[0].reshape(-1,1)-m_not_frog).T\n",
    "for i in range(1,10000):\n",
    "    Sw_not_frog += (not_frog[i].reshape(-1,1)-m_not_frog @ (not_frog[i].reshape(-1,1)-m_not_frog).T)\n",
    "    print (i)"
   ]
  },
  {
   "cell_type": "code",
   "execution_count": null,
   "metadata": {},
   "outputs": [],
   "source": [
    "Sw_not_frog.shape"
   ]
  },
  {
   "cell_type": "code",
   "execution_count": null,
   "metadata": {},
   "outputs": [],
   "source": [
    "# Getting Pseudo inverse Sw^-1 of frog\n",
    "Sw_inv_frog = np.linalg.pinv(Sw_frog + Sw_not_frog)\n",
    "Sw_inv_frog.shape"
   ]
  },
  {
   "cell_type": "code",
   "execution_count": null,
   "metadata": {},
   "outputs": [],
   "source": [
    "# Getting classifier of frog\n",
    "w_frog = Sw_inv_frog @ (m_frog - m_not_frog)"
   ]
  },
  {
   "cell_type": "code",
   "execution_count": null,
   "metadata": {},
   "outputs": [],
   "source": [
    "# Getting wnode of automobile\n",
    "wnode_frog = w_frog.T @ (-0.5 * (m_frog + m_not_frog))\n",
    "wnode_frog.shape"
   ]
  },
  {
   "cell_type": "code",
   "execution_count": null,
   "metadata": {},
   "outputs": [],
   "source": []
  },
  {
   "cell_type": "code",
   "execution_count": null,
   "metadata": {},
   "outputs": [],
   "source": []
  },
  {
   "cell_type": "code",
   "execution_count": null,
   "metadata": {},
   "outputs": [],
   "source": []
  },
  {
   "cell_type": "code",
   "execution_count": null,
   "metadata": {},
   "outputs": [],
   "source": []
  },
  {
   "cell_type": "markdown",
   "metadata": {},
   "source": [
    "## Confusion Matrix (Don't Edit)"
   ]
  },
  {
   "cell_type": "code",
   "execution_count": null,
   "metadata": {},
   "outputs": [],
   "source": [
    "# Make sure the previous cell returns a variable called confusion_matrix\n",
    "# Plot Confusion Matrix\n",
    "accuracy = np.diag(confusion_matrix).sum()/X_test.shape[0]\n",
    "plt.rc('figure', figsize=[5,5])\n",
    "plt.matshow(confusion_matrix,cmap=\"Blues\")\n",
    "plt.title('FLD+RGB = {0:0.3f}'.format(accuracy))\n",
    "for i in range(0,confusion_matrix.shape[0]):\n",
    "    for j in range(0,confusion_matrix.shape[1]):\n",
    "        plt.annotate(confusion_matrix[i,j],(j,i))"
   ]
  },
  {
   "cell_type": "markdown",
   "metadata": {},
   "source": [
    "### Repeat for Grayscale"
   ]
  },
  {
   "cell_type": "code",
   "execution_count": null,
   "metadata": {},
   "outputs": [],
   "source": [
    "# Write code here\n",
    "# Train\n",
    "# Test\n",
    "# confusion_matrix = "
   ]
  },
  {
   "cell_type": "markdown",
   "metadata": {},
   "source": [
    "## Confusion Matrix (Don't Edit)"
   ]
  },
  {
   "cell_type": "code",
   "execution_count": null,
   "metadata": {},
   "outputs": [],
   "source": [
    "# Make sure the previous cell returns a variable called confusion_matrix\n",
    "# Plot Confusion Matrix\n",
    "accuracy = np.diag(confusion_matrix).sum()/X_test.shape[0]\n",
    "plt.rc('figure', figsize=[5,5])\n",
    "plt.matshow(confusion_matrix,cmap=\"Blues\")\n",
    "plt.title('FLD+GRAY = {0:0.3f}'.format(accuracy))\n",
    "for i in range(0,confusion_matrix.shape[0]):\n",
    "    for j in range(0,confusion_matrix.shape[1]):\n",
    "        plt.annotate(confusion_matrix[i,j],(j,i))"
   ]
  },
  {
   "cell_type": "markdown",
   "metadata": {},
   "source": [
    "<hr style=\"border:2px solid black\"> </hr>\n",
    "\n",
    "## Comment on the change of accuracy between RGB and Grayscale\n",
    "##########\n",
    "\n",
    "Write Comment Here\n",
    "\n",
    "...\n",
    "...\n",
    "...\n",
    "\n",
    "##########\n",
    "<hr style=\"border:2px solid black\"> </hr>"
   ]
  }
 ],
 "metadata": {
  "interpreter": {
   "hash": "31f2aee4e71d21fbe5cf8b01ff0e069b9275f58929596ceb00d14d90e3e16cd6"
  },
  "kernelspec": {
   "display_name": "Python 3",
   "language": "python",
   "name": "python3"
  },
  "language_info": {
   "codemirror_mode": {
    "name": "ipython",
    "version": 3
   },
   "file_extension": ".py",
   "mimetype": "text/x-python",
   "name": "python",
   "nbconvert_exporter": "python",
   "pygments_lexer": "ipython3",
   "version": "3.8.12"
  }
 },
 "nbformat": 4,
 "nbformat_minor": 4
}
