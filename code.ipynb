{
 "cells": [
  {
   "cell_type": "markdown",
   "metadata": {},
   "source": [
    "<h1><center>CSEN1022:Assignment 1</center></h1>\n",
    "<h3><center>Winter 2021</center></h3>\n",
    "<hr style=\"border:2px solid black\"> </hr>"
   ]
  },
  {
   "cell_type": "markdown",
   "metadata": {},
   "source": [
    "**Member 1**\n",
    "\n",
    "Name: Mohammad Marwan Sultan\n",
    "\n",
    "GUC-ID: 43-3275\n",
    "\n",
    "Elective Tutorial No.: T-06\n",
    "\n",
    "**Member 2**\n",
    "\n",
    "Name: Mariam Ashraf Hindawi\n",
    "\n",
    "GUC-ID: 43-3771\n",
    "\n",
    "Elective Tutorial No.: T-06\n",
    "\n",
    "<hr style=\"border:2px solid black\"> </hr>"
   ]
  },
  {
   "cell_type": "markdown",
   "metadata": {},
   "source": [
    "## Imports"
   ]
  },
  {
   "cell_type": "code",
   "execution_count": null,
   "metadata": {},
   "outputs": [],
   "source": [
    "import numpy as np\n",
    "import matplotlib.pyplot as plt\n",
    "%matplotlib inline"
   ]
  },
  {
   "cell_type": "markdown",
   "metadata": {},
   "source": [
    "## Read Training Images, Testing Images"
   ]
  },
  {
   "cell_type": "code",
   "execution_count": null,
   "metadata": {},
   "outputs": [],
   "source": [
    "airplane_train = np.array([plt.imread('Data/Train/airplane/'+str(i)+'.jpg').reshape(-1) for i in range (0, 5000)])\n",
    "automobile_train = np.array([plt.imread('Data/Train/automobile/'+str(i)+'.jpg').reshape(-1) for i in range (0, 5000)])\n",
    "frog_train = np.array([plt.imread('Data/Train/frog/'+str(i)+'.jpg').reshape(-1) for i in range (0, 5000)])\n",
    "\n",
    "airplane_test = np.array([plt.imread('Data/Test/airplane/'+str(i)+'.jpg').reshape(-1) for i in range (0, 1000)])\n",
    "automobile_test = np.array([plt.imread('Data/Test/automobile/'+str(i)+'.jpg').reshape(-1) for i in range (0, 1000)])\n",
    "frog_test = np.array([plt.imread('Data/Test/frog/'+str(i)+'.jpg').reshape(-1) for i in range (0, 1000)])"
   ]
  },
  {
   "cell_type": "code",
   "execution_count": null,
   "metadata": {},
   "outputs": [],
   "source": [
    "print(airplane_train.shape, airplane_test.shape)\n",
    "print(automobile_train.shape, automobile_test.shape)\n",
    "print(frog_train.shape, frog_test.shape)"
   ]
  },
  {
   "cell_type": "code",
   "execution_count": null,
   "metadata": {},
   "outputs": [],
   "source": [
    "print(np.size(airplane_train, 0))\n",
    "print(np.size(airplane_test, 0))"
   ]
  },
  {
   "cell_type": "markdown",
   "metadata": {},
   "source": [
    "## Getting X_train and test of all images together and normalizing"
   ]
  },
  {
   "cell_type": "code",
   "execution_count": null,
   "metadata": {},
   "outputs": [],
   "source": [
    "X_train = np.concatenate((airplane_train, automobile_train, frog_train)) / 255.0\n",
    "Y_train = ['airplane' for i in range(np.size(airplane_train, 0))]\n",
    "Y_train += ['automobile' for i in range(np.size(automobile_train, 0))]\n",
    "Y_train += ['frog' for i in range(np.size(frog_train, 0))]\n",
    "\n",
    "X_test = np.concatenate((airplane_test, automobile_test, frog_test)) / 255.0\n",
    "Y_test = ['airplane' for i in range(np.size(airplane_test, 0))]\n",
    "Y_test += ['automobile' for i in range(np.size(automobile_test, 0))]\n",
    "Y_test += ['frog' for i in range(np.size(frog_test, 0))]\n",
    "\n",
    "labels = ['airplane', 'automobile', 'frog']"
   ]
  },
  {
   "cell_type": "code",
   "execution_count": null,
   "metadata": {},
   "outputs": [],
   "source": [
    "print (X_train.shape, len(Y_train))\n",
    "print(X_test.shape, len(Y_test))\n",
    "print(labels)"
   ]
  },
  {
   "cell_type": "markdown",
   "metadata": {},
   "source": [
    "<hr style=\"border:2px solid black\"> </hr>\n",
    "\n",
    "## Construct Fischer's Linear Discriminant classifier for each of the 3 classes.\n",
    "#### Test each classifier on all images in X_Test. \n",
    "#### Construct Confusion Matrix."
   ]
  },
  {
   "cell_type": "markdown",
   "metadata": {},
   "source": [
    "## Constructing the classifier"
   ]
  },
  {
   "cell_type": "code",
   "execution_count": null,
   "metadata": {},
   "outputs": [],
   "source": [
    "def construct_classifier(X_train, Y_train, labels):\n",
    "    number_of_features = np.size(X_train, 1)\n",
    "    X_class1 = []\n",
    "    X_class2 = []\n",
    "\n",
    "    for i in range (0, len(X_train)):\n",
    "        if Y_train[i] == labels[0]:\n",
    "            X_class1.append(X_train[i])\n",
    "        else:\n",
    "            X_class2.append(X_train[i])\n",
    "\n",
    "    X_class1 = np.array(X_class1)\n",
    "    X_class2 = np.array(X_class2)\n",
    "    mean_class1 = np.mean(X_class1, axis=0).reshape(-1, 1)\n",
    "    mean_class2 = np.mean(X_class2, axis=0).reshape(-1, 1)\n",
    "    print(X_class1)\n",
    "\n",
    "    Sw_class1 = np.zeros((number_of_features, number_of_features))\n",
    "    Sw_class2 = np.zeros((number_of_features, number_of_features))\n",
    "    \n",
    "    for i in range(0, np.size(X_class1, 0)):\n",
    "        Sw_class1 += (X_class1[i].reshape(-1, 1) - mean_class1 @ (X_class1[i].reshape(-1, 1) - mean_class1).T)\n",
    "    for i in range(0, np.size(X_class2, 0)):\n",
    "        Sw_class2 += (X_class2[i].reshape(-1, 1) - mean_class2 @ (X_class2[i].reshape(-1, 1) - mean_class2).T)\n",
    "    Sw_inv = np.linalg.pinv(Sw_class1 + Sw_class2)\n",
    "\n",
    "    w = Sw_inv @ (mean_class2 - mean_class1)\n",
    "    w_node = -0.5 * (w.T @ (mean_class1 + mean_class2))\n",
    "\n",
    "    return w, w_node"
   ]
  },
  {
   "cell_type": "code",
   "execution_count": null,
   "metadata": {},
   "outputs": [],
   "source": [
    "Y_airplane_train = ['airplane' for i in range(5000)]\n",
    "Y_airplane_train += ['not_airplane' for i in range(10000)]\n",
    "airplane_labels = ['airplane', 'not_airplane']"
   ]
  },
  {
   "cell_type": "code",
   "execution_count": null,
   "metadata": {},
   "outputs": [],
   "source": [
    "print(len(Y_airplane_train))"
   ]
  },
  {
   "cell_type": "code",
   "execution_count": null,
   "metadata": {},
   "outputs": [],
   "source": [
    "w, w_node = construct_classifier(X_train, Y_airplane_train, airplane_labels)"
   ]
  },
  {
   "cell_type": "code",
   "execution_count": null,
   "metadata": {},
   "outputs": [],
   "source": [
    "print(w)\n",
    "print(w_node)"
   ]
  },
  {
   "cell_type": "markdown",
   "metadata": {},
   "source": [
    "## Predicting the class"
   ]
  },
  {
   "cell_type": "code",
   "execution_count": 23,
   "metadata": {},
   "outputs": [],
   "source": [
    "def predict(weights, feature_vector, labels):\n",
    "    y = weights.T @ feature_vector\n",
    "    if (y > 0):\n",
    "        return labels[0]\n",
    "    return labels[1]"
   ]
  },
  {
   "cell_type": "markdown",
   "metadata": {},
   "source": [
    "## Confusion Matrix"
   ]
  },
  {
   "cell_type": "code",
   "execution_count": null,
   "metadata": {},
   "outputs": [],
   "source": [
    "# Make sure the previous cell returns a variable called confusion_matrix\n",
    "# Plot Confusion Matrix\n",
    "accuracy = np.diag(confusion_matrix).sum()/X_test.shape[0]\n",
    "plt.rc('figure', figsize=[5,5])\n",
    "plt.matshow(confusion_matrix,cmap=\"Blues\")\n",
    "plt.title('FLD+RGB = {0:0.3f}'.format(accuracy))\n",
    "for i in range(0,confusion_matrix.shape[0]):\n",
    "    for j in range(0,confusion_matrix.shape[1]):\n",
    "        plt.annotate(confusion_matrix[i,j],(j,i))"
   ]
  },
  {
   "cell_type": "markdown",
   "metadata": {},
   "source": [
    "### Repeat for Grayscale"
   ]
  },
  {
   "cell_type": "code",
   "execution_count": null,
   "metadata": {},
   "outputs": [],
   "source": [
    "# Write code here\n",
    "# Train\n",
    "# Test\n",
    "# confusion_matrix = "
   ]
  },
  {
   "cell_type": "markdown",
   "metadata": {},
   "source": [
    "## Confusion Matrix"
   ]
  },
  {
   "cell_type": "code",
   "execution_count": null,
   "metadata": {},
   "outputs": [],
   "source": [
    "# Make sure the previous cell returns a variable called confusion_matrix\n",
    "# Plot Confusion Matrix\n",
    "accuracy = np.diag(confusion_matrix).sum()/X_test.shape[0]\n",
    "plt.rc('figure', figsize=[5,5])\n",
    "plt.matshow(confusion_matrix,cmap=\"Blues\")\n",
    "plt.title('FLD+GRAY = {0:0.3f}'.format(accuracy))\n",
    "for i in range(0,confusion_matrix.shape[0]):\n",
    "    for j in range(0,confusion_matrix.shape[1]):\n",
    "        plt.annotate(confusion_matrix[i,j],(j,i))"
   ]
  },
  {
   "cell_type": "markdown",
   "metadata": {},
   "source": [
    "<hr style=\"border:2px solid black\"> </hr>\n",
    "\n",
    "## Comment on the change of accuracy between RGB and Grayscale\n",
    "##########\n",
    "\n",
    "Write Comment Here\n",
    "\n",
    "...\n",
    "...\n",
    "...\n",
    "\n",
    "##########\n",
    "<hr style=\"border:2px solid black\"> </hr>"
   ]
  }
 ],
 "metadata": {
  "interpreter": {
   "hash": "31f2aee4e71d21fbe5cf8b01ff0e069b9275f58929596ceb00d14d90e3e16cd6"
  },
  "kernelspec": {
   "display_name": "Python 3",
   "language": "python",
   "name": "python3"
  },
  "language_info": {
   "codemirror_mode": {
    "name": "ipython",
    "version": 3
   },
   "file_extension": ".py",
   "mimetype": "text/x-python",
   "name": "python",
   "nbconvert_exporter": "python",
   "pygments_lexer": "ipython3",
   "version": "3.8.12"
  }
 },
 "nbformat": 4,
 "nbformat_minor": 4
}
