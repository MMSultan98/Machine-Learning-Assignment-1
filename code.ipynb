{
 "cells": [
  {
   "cell_type": "markdown",
   "metadata": {},
   "source": [
    "<h1><center>CSEN1022:Assignment 1</center></h1>\n",
    "<h3><center>Winter 2021</center></h3>\n",
    "<hr style=\"border:2px solid black\"> </hr>"
   ]
  },
  {
   "cell_type": "markdown",
   "metadata": {},
   "source": [
    "## <u> Please don't forget to fill in this data </u>\n",
    "**Member 1**\n",
    "\n",
    "Name:\n",
    "\n",
    "GUC-ID:\n",
    "\n",
    "Elective Tutorial No.:\n",
    "\n",
    "**Member 2**\n",
    "\n",
    "Name:\n",
    "\n",
    "GUC-ID:\n",
    "\n",
    "Elective Tutorial No.:\n",
    "\n",
    "<hr style=\"border:2px solid black\"> </hr>"
   ]
  },
  {
   "cell_type": "markdown",
   "metadata": {},
   "source": [
    "## Imports (Don't Edit)"
   ]
  },
  {
   "cell_type": "code",
   "execution_count": 1,
   "metadata": {},
   "outputs": [],
   "source": [
    "# ONLY USE THESE IMPORTS.\n",
    "# PLEASE DON'T EDIT THIS CELL.\n",
    "import numpy as np\n",
    "import matplotlib.pyplot as plt\n",
    "%matplotlib inline"
   ]
  },
  {
   "cell_type": "markdown",
   "metadata": {},
   "source": [
    "## Read Training Images, Testing Images"
   ]
  },
  {
   "cell_type": "code",
   "execution_count": 2,
   "metadata": {},
   "outputs": [
    {
     "name": "stdout",
     "output_type": "stream",
     "text": [
      "(5000, 3072) (1000, 3072)\n",
      "(5000, 3072) (1000, 3072)\n",
      "(5000, 3072) (1000, 3072)\n"
     ]
    }
   ],
   "source": [
    "airplane_train = np.array([plt.imread('Data/Train/airplane/'+str(i)+'.jpg').reshape(-1) for i in range (0,5000)])\n",
    "automobile_train = np.array([plt.imread('Data/Train/automobile/'+str(i)+'.jpg').reshape(-1) for i in range (0,5000)])\n",
    "frog_train = np.array([plt.imread('Data/Train/frog/'+str(i)+'.jpg').reshape(-1) for i in range (0,5000)])\n",
    "\n",
    "airplane_test = np.array([plt.imread('Data/Test/airplane/'+str(i)+'.jpg').reshape(-1) for i in range (0,1000)])\n",
    "automobile_test = np.array([plt.imread('Data/Test/automobile/'+str(i)+'.jpg').reshape(-1) for i in range (0,1000)])\n",
    "frog_test = np.array([plt.imread('Data/Test/frog/'+str(i)+'.jpg').reshape(-1) for i in range (0,1000)])\n",
    "\n",
    "print(airplane_train.shape, airplane_test.shape)\n",
    "print(automobile_train.shape, automobile_test.shape)\n",
    "print(frog_train.shape, frog_test.shape)"
   ]
  },
  {
   "cell_type": "markdown",
   "metadata": {},
   "source": [
    "## Getting X_train and test of all images together and normalizing"
   ]
  },
  {
   "cell_type": "code",
   "execution_count": 6,
   "metadata": {},
   "outputs": [
    {
     "name": "stdout",
     "output_type": "stream",
     "text": [
      "(15000, 3072)\n",
      "(15000, 3072)\n"
     ]
    }
   ],
   "source": [
    "X_Train = np.concatenate((airplane_train, automobile_train, frog_train))/ 255.0\n",
    "X_Test = np.concatenate((airplane_train, automobile_train, frog_train))/255.0\n",
    "\n",
    "print (X_Train.shape)\n",
    "print(X_Test.shape)\n"
   ]
  },
  {
   "cell_type": "markdown",
   "metadata": {},
   "source": [
    "<hr style=\"border:2px solid black\"> </hr>\n",
    "\n",
    "## Construct Fischer's Linear Discriminant classifier for each of the 3 classes.\n",
    "#### Test each classifier on all images in X_Test. \n",
    "#### Construct Confusion Matrix."
   ]
  },
  {
   "cell_type": "markdown",
   "metadata": {},
   "source": [
    "## Constructing the classifier"
   ]
  },
  {
   "cell_type": "code",
   "execution_count": 209,
   "metadata": {},
   "outputs": [],
   "source": [
    "def construct_classifier(X_Train, target_values, trainClasses):\n",
    "\n",
    "\n",
    "    class1_number_of_elements = target_values.count(trainClasses[0])\n",
    "    class2_number_of_elements = target_values.count(trainClasses[1])\n",
    "\n",
    "    trainClass1 = np.zeros((class1_number_of_elements, np.size(X_Train,1)))\n",
    "    trainClass2 = np.zeros((class2_number_of_elements, np.size(X_Train,1)))\n",
    "\n",
    "    for i in range (0, len(target_values)):\n",
    "        if target_values[i] == trainClasses[0]:\n",
    "            trainClass1[i] + X_Train[i].reshape(-1,1)\n",
    "        else:\n",
    "            trainClass2[i] + X_Train[i].reshape(-1,1)\n",
    "\n",
    "    print (class1_number_of_elements)\n",
    "    print (class2_number_of_elements)\n",
    "    print (trainClass1.shape)\n",
    "    print (trainClass2.shape)\n",
    "\n",
    "    # meanClass1 =np.mean(trainClass1 ,axis = 0).reshape(-1,1)\n",
    "    # meanClass2 =np.mean(trainClass2 ,axis = 0).reshape(-1,1)\n",
    "\n",
    "    # print(trainClass1.shape)\n",
    "    # print (trainClass2.shape)\n",
    "\n",
    "    # SwClass1 = trainClass1[0].reshape(-1,1)-meanClass1 @ (trainClass1[0].reshape(-1,1)-meanClass1).T\n",
    "    # print (SwClass1.shape)\n",
    "\n",
    "    # for i in range(1,SwClass1.size):\n",
    "    #     SwClass1 += (trainClass1[i].reshape(-1,1)-meanClass1 @ (trainClass1[i].reshape(-1,1)-meanClass1).T)\n",
    "\n",
    "    # SwClass2 = trainClass2[0].reshape(-1,1)-meanClass2 @ (trainClass2[0].reshape(-1,1)-meanClass2).T\n",
    "    # for i in range(1,SwClass1.size):\n",
    "    #     SwClass2 += (trainClass2[i].reshape(-1,1)-meanClass2 @ (trainClass2[i].reshape(-1,1)-meanClass2).T)\n",
    "\n",
    "    # SwInv = np.linalg.pinv(SwClass1 + SwClass2 )\n",
    "\n",
    "    # w = SwInv @ (meanClass1 - meanClass2)\n",
    "\n",
    "    # wNode = (w.T * -1) @ (0.5 * (meanClass1 + meanClass2))\n",
    "\n",
    "    return w, wNode\n",
    "\n",
    "\n",
    "\n"
   ]
  },
  {
   "cell_type": "code",
   "execution_count": 210,
   "metadata": {},
   "outputs": [],
   "source": [
    "airpalane_target_values = []\n",
    "airpalane_target_values = ['airplane' for i in range(np.size(airplane_train,0))] \n",
    "not_airplane_target_values =[]\n",
    "not_airpalane_target_values = ['not_airplane' for i in range(np.size(X_Train,0)-np.size(airplane_train,0))] \n",
    "target_values = airpalane_target_values + not_airpalane_target_values\n",
    "airplaneClasses=['airplane', 'not_airplane']\n"
   ]
  },
  {
   "cell_type": "code",
   "execution_count": 211,
   "metadata": {},
   "outputs": [],
   "source": [
    "w, wNode = construct_classifier(X_Train, target_values, airplaneClasses)"
   ]
  },
  {
   "cell_type": "markdown",
   "metadata": {},
   "source": [
    "## Confusion Matrix (Don't Edit)"
   ]
  },
  {
   "cell_type": "code",
   "execution_count": null,
   "metadata": {},
   "outputs": [],
   "source": [
    "# Make sure the previous cell returns a variable called confusion_matrix\n",
    "# Plot Confusion Matrix\n",
    "accuracy = np.diag(confusion_matrix).sum()/X_test.shape[0]\n",
    "plt.rc('figure', figsize=[5,5])\n",
    "plt.matshow(confusion_matrix,cmap=\"Blues\")\n",
    "plt.title('FLD+RGB = {0:0.3f}'.format(accuracy))\n",
    "for i in range(0,confusion_matrix.shape[0]):\n",
    "    for j in range(0,confusion_matrix.shape[1]):\n",
    "        plt.annotate(confusion_matrix[i,j],(j,i))"
   ]
  },
  {
   "cell_type": "markdown",
   "metadata": {},
   "source": [
    "### Repeat for Grayscale"
   ]
  },
  {
   "cell_type": "code",
   "execution_count": null,
   "metadata": {},
   "outputs": [],
   "source": [
    "# Write code here\n",
    "# Train\n",
    "# Test\n",
    "# confusion_matrix = "
   ]
  },
  {
   "cell_type": "markdown",
   "metadata": {},
   "source": [
    "## Confusion Matrix (Don't Edit)"
   ]
  },
  {
   "cell_type": "code",
   "execution_count": null,
   "metadata": {},
   "outputs": [],
   "source": [
    "# Make sure the previous cell returns a variable called confusion_matrix\n",
    "# Plot Confusion Matrix\n",
    "accuracy = np.diag(confusion_matrix).sum()/X_test.shape[0]\n",
    "plt.rc('figure', figsize=[5,5])\n",
    "plt.matshow(confusion_matrix,cmap=\"Blues\")\n",
    "plt.title('FLD+GRAY = {0:0.3f}'.format(accuracy))\n",
    "for i in range(0,confusion_matrix.shape[0]):\n",
    "    for j in range(0,confusion_matrix.shape[1]):\n",
    "        plt.annotate(confusion_matrix[i,j],(j,i))"
   ]
  },
  {
   "cell_type": "markdown",
   "metadata": {},
   "source": [
    "<hr style=\"border:2px solid black\"> </hr>\n",
    "\n",
    "## Comment on the change of accuracy between RGB and Grayscale\n",
    "##########\n",
    "\n",
    "Write Comment Here\n",
    "\n",
    "...\n",
    "...\n",
    "...\n",
    "\n",
    "##########\n",
    "<hr style=\"border:2px solid black\"> </hr>"
   ]
  }
 ],
 "metadata": {
  "interpreter": {
   "hash": "31f2aee4e71d21fbe5cf8b01ff0e069b9275f58929596ceb00d14d90e3e16cd6"
  },
  "kernelspec": {
   "display_name": "Python 3",
   "language": "python",
   "name": "python3"
  },
  "language_info": {
   "codemirror_mode": {
    "name": "ipython",
    "version": 3
   },
   "file_extension": ".py",
   "mimetype": "text/x-python",
   "name": "python",
   "nbconvert_exporter": "python",
   "pygments_lexer": "ipython3",
   "version": "3.8.12"
  }
 },
 "nbformat": 4,
 "nbformat_minor": 4
}
